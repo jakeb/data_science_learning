{
 "cells": [
  {
   "cell_type": "markdown",
   "metadata": {},
   "source": [
    "A _regression_ is a model that represents data with a continuous(?) function. A _linear_ regression represents the data with a straight line, i.e. a function of the familiar form:\n",
    "\n",
    "***\n",
    "\n",
    "   $$ \\hat{y} = mx+b $$\n",
    "\n",
    "***\n",
    "\n",
    "The notation $\\hat{y}$ (y-hat) is conventional. Hatless $y$ refers to actual data points, while $\\hat{y}$ refers to estimates.\n",
    "\n",
    "That's a bit of an oversimplification, but works for now. More on [linear functions](https://en.wikipedia.org/wiki/Linear_function)"
   ]
  },
  {
   "cell_type": "code",
   "execution_count": null,
   "metadata": {},
   "outputs": [],
   "source": [
    "import numpy as np"
   ]
  },
  {
   "cell_type": "markdown",
   "metadata": {},
   "source": [
    "## simple approximations for partial derivates"
   ]
  },
  {
   "cell_type": "code",
   "execution_count": null,
   "metadata": {},
   "outputs": [],
   "source": [
    "def pderiv_w(x,y,j,w,b,delta=.01):\n",
    "    \"\"\"\n",
    "    estimates the partial derivative for w of function j @ w,b\n",
    "    \"\"\"\n",
    "    return (j(x,y,w+delta,b)-j(x,y,w,b))/delta"
   ]
  },
  {
   "cell_type": "code",
   "execution_count": 38,
   "metadata": {},
   "outputs": [],
   "source": [
    "def pderiv_b(x,y,j,w,b,delta=.01):\n",
    "    \"\"\"\n",
    "    estimates the partial derivative for w of function j @ w,b\n",
    "    \"\"\"\n",
    "    return (j(x,y,w,b+delta)-j(x,y,w,b))/delta"
   ]
  },
  {
   "cell_type": "code",
   "execution_count": 39,
   "metadata": {},
   "outputs": [],
   "source": [
    "# training data\n",
    "x_train = np.array([1.0, 2.0])           #(size in 1000 square feet)\n",
    "y_train = np.array([300.0, 500.0])       #(price in 1000s of dollars)"
   ]
  },
  {
   "cell_type": "code",
   "execution_count": 55,
   "metadata": {},
   "outputs": [],
   "source": [
    "def least_squares(x,y, w,b):\n",
    "    m = len(x)\n",
    "    y_hat = w*x + b\n",
    "    # least squares\n",
    "    return ((y-y_hat)**2).sum()/(2*m)"
   ]
  },
  {
   "cell_type": "code",
   "execution_count": 56,
   "metadata": {},
   "outputs": [],
   "source": [
    "def least_absolute(x,y, w,b):\n",
    "    m = len(x)\n",
    "    y_hat = w*x + b\n",
    "    return (abs(y-y_hat)).sum()/m\n",
    "    "
   ]
  },
  {
   "cell_type": "markdown",
   "metadata": {},
   "source": [
    "## Implement Gradient descent\n"
   ]
  },
  {
   "cell_type": "code",
   "execution_count": 58,
   "metadata": {},
   "outputs": [],
   "source": [
    "def gradient_descent(x,y,j,\n",
    "            learning_rate = .5,\n",
    "            n = 1000,\n",
    "            delta = .01):\n",
    "    \n",
    "    \"\"\"\n",
    "    Runs gradient descent algorithm for:\n",
    "        * j : cost function\n",
    "        * x,y : training data\n",
    "        \n",
    "    \"\"\"\n",
    "    \n",
    "    w, b = 0,0\n",
    "    for i in range(n):\n",
    "        #print(f\" step {i}: w = {w}, b = {b}\")\n",
    "        w_ = w - learning_rate * pderiv_w(x, y, j, w, b, delta)\n",
    "        b_ = b - learning_rate * pderiv_b(x, y, j, w, b, delta)\n",
    "        w,b = w_, b_\n",
    "\n",
    "    return (w,b)\n",
    "    print(f\" step {i}: w = {w}, b = {b}\")"
   ]
  },
  {
   "cell_type": "code",
   "execution_count": 59,
   "metadata": {},
   "outputs": [
    {
     "data": {
      "text/plain": [
       "(199.9799999999999, 100.02500000000015)"
      ]
     },
     "execution_count": 59,
     "metadata": {},
     "output_type": "execute_result"
    }
   ],
   "source": [
    "gradient_descent(x_train, y_train, least_squares)"
   ]
  },
  {
   "cell_type": "code",
   "execution_count": 60,
   "metadata": {},
   "outputs": [
    {
     "data": {
      "text/plain": [
       "(199.00000001346143, 102.00000001354965)"
      ]
     },
     "execution_count": 60,
     "metadata": {},
     "output_type": "execute_result"
    }
   ],
   "source": [
    "gradient_descent(x_train, y_train, least_absolute)"
   ]
  },
  {
   "cell_type": "code",
   "execution_count": null,
   "metadata": {},
   "outputs": [],
   "source": []
  }
 ],
 "metadata": {
  "kernelspec": {
   "display_name": "venv",
   "language": "python",
   "name": "venv"
  },
  "language_info": {
   "codemirror_mode": {
    "name": "ipython",
    "version": 3
   },
   "file_extension": ".py",
   "mimetype": "text/x-python",
   "name": "python",
   "nbconvert_exporter": "python",
   "pygments_lexer": "ipython3",
   "version": "3.10.6"
  }
 },
 "nbformat": 4,
 "nbformat_minor": 2
}
