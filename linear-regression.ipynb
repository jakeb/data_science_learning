{
 "cells": [
  {
   "cell_type": "code",
   "execution_count": 1,
   "metadata": {},
   "outputs": [],
   "source": [
    "import pandas as pd"
   ]
  },
  {
   "attachments": {},
   "cell_type": "markdown",
   "metadata": {},
   "source": [
    "A _regression_ is a model that represents data with a continuous(?) function. A _linear_ regression represents the data with a straight line, i.e. a function of the familiar form:\n",
    "\n",
    "***\n",
    "\n",
    "   $$ \\hat{y} = mx+b $$\n",
    "\n",
    "***\n",
    "\n",
    "The notation $\\hat{y}$ (y-hat) is conventional. Hatless $y$ refers to actual data points, while $\\hat{y}$ refers to estimates."
   ]
  },
  {
   "cell_type": "markdown",
   "metadata": {},
   "source": []
  }
 ],
 "metadata": {
  "kernelspec": {
   "display_name": "Python 3",
   "language": "python",
   "name": "python3"
  },
  "language_info": {
   "codemirror_mode": {
    "name": "ipython",
    "version": 3
   },
   "file_extension": ".py",
   "mimetype": "text/x-python",
   "name": "python",
   "nbconvert_exporter": "python",
   "pygments_lexer": "ipython3",
   "version": "3.11.2"
  },
  "orig_nbformat": 4
 },
 "nbformat": 4,
 "nbformat_minor": 2
}
